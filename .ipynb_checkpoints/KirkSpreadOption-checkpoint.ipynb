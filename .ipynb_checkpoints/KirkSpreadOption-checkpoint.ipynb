{
 "cells": [
  {
   "cell_type": "code",
   "execution_count": 1,
   "id": "1a251623-318a-48b9-ae7b-5fcc0ccbb093",
   "metadata": {
    "tags": []
   },
   "outputs": [],
   "source": [
    "import numpy as np"
   ]
  },
  {
   "cell_type": "markdown",
   "id": "5060f353-f50a-4961-97ba-b12b453c6bbd",
   "metadata": {},
   "source": [
    "# Call option\n",
    "$$Payoff = max(S1 - S2 - K) = max(S1 - (S2 + K))$$\n",
    "\n",
    "Call price:\n",
    "\n",
    "$$ c= (F_2 + X) e^{-rT} (FN(d_1) - N(d_2)) = e^{-rT}(F_1N(d_1) - (F_2 + X)N(d_2))$$\n",
    "\n",
    "Put price:\n",
    "$$p = (F_2 + X)e^{-rT} (N(-d_2) - FN(d_1))$$\n",
    "\n",
    "$$d_1 = \\frac{ln(F)+ (\\sigma^2/2)T}{\\sigma\\sqrt{T}}$$\n",
    "\n",
    "$$d_2 = D_1 = \\sigma \\sqrt{T}$$\n",
    "\n",
    "$$F = \\frac{F_1}{F_2 + X}$$\n",
    "\n",
    "Let:\n",
    "$$\\sigma \\approx \\sqrt{\\sigma_1^2 + \\big(\\sigma_2 \\frac{F_2}{F_2 + X}\\big)^2 - 2\\kappa\\sigma_1\\sigma_2\\frac{F_2}{F_2 + X}}$$\n",
    "\n",
    "Let:\n",
    "$S = F_1$  \n",
    "$K = F_2 + X$  \n",
    "\n",
    "Then the call price simplifies to the BS formula.\n",
    "\n",
    "Source: https://help.cqg.com/cqgic/22/default.htm#!Documents/kirksapproximation.htm"
   ]
  },
  {
   "cell_type": "code",
   "execution_count": null,
   "id": "2c349e6e-b001-495e-9235-d91f0b477fdc",
   "metadata": {},
   "outputs": [],
   "source": [
    "def BSCall(S, K, sigma, T, t, r):\n",
    "    dt = T- t\n",
    "    d_1 = (np.log(S/K) + (sigma**2/2)*dt)/(sigma*dt)\n",
    "    d_2 = d_1 - sigma*np.sqrt(dt)\n",
    "    N1 = 1\n",
    "    N2 = 1\n",
    "    return np.exp(-r*dt)*(S *N1 - K*N2)\n",
    "\n",
    "def KirkSpreadApproximation(F1, F2, X, sigma_1, sigma_2, kappa, T, t, r):\n",
    "    S = F1\n",
    "    K = F2 + X\n",
    "    sigma = (sigma_1**2 + (sigma_2 * F_2 / K)**2 - 2*kappa*sigma_1*sigma*2*F_2/K   )**(.5)\n",
    "    return BSCall(S, K, sigma, T, t, r)"
   ]
  }
 ],
 "metadata": {
  "kernelspec": {
   "display_name": "Python 3 (ipykernel)",
   "language": "python",
   "name": "python3"
  },
  "language_info": {
   "codemirror_mode": {
    "name": "ipython",
    "version": 3
   },
   "file_extension": ".py",
   "mimetype": "text/x-python",
   "name": "python",
   "nbconvert_exporter": "python",
   "pygments_lexer": "ipython3",
   "version": "3.9.6"
  }
 },
 "nbformat": 4,
 "nbformat_minor": 5
}
